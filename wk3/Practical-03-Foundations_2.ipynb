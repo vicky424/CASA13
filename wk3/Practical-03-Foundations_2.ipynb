{
 "cells": [
  {
   "cell_type": "markdown",
   "id": "92ab4957-43c1-44f4-bc67-d9b91df85492",
   "metadata": {},
   "source": [
    "## Practical 3: Foundations (Part 2)\n",
    "\n",
    "Getting to grips with Dictionaries, LOLs and DOLs\n",
    "\n",
    "In this notebook we are exploring basic (in the sense of fundamental)\n",
    "data structures so that you understand both how to manage more complex\n",
    "types of data and are prepared for what we will encounter when we start\n",
    "using `pandas` to perform data analysis. To achieve that, you will need\n",
    "to be ‘fluent’ in “nested” lists and dictionaries; we will focus\n",
    "primarily on lists-of-lists and dictionaries-of-lists, but note that\n",
    "file formats like JSON can be understood as\n",
    "dictionaries-of-dictionaries-of-lists-of-… so this is just a *taster* of\n",
    "real-world data structures.\n",
    "\n",
    "> **Tip**\n",
    ">\n",
    "> You should download this notebook from GitHub and then save it to your\n",
    "> own copy of the repository. I’d suggest adding it (`git add ...`)\n",
    "> right away and then committing (e.g. `git commit -m \"Just added.\"`).\n",
    "> Do this again at the end of the class (`git add ...`,\n",
    "> `git commit -m ...`) and you’ll have a record of everything you did.\n",
    "> Then you can `git push` everything to GitHub.\n",
    "\n",
    "> **Group Sign-Up**\n",
    ">\n",
    "> While there’s no benefit to signing up early, if you’ve already formed\n",
    "> a group then you can now [Sign\n",
    "> Up](https://forms.office.com/e/2ij0sWHnpR)!\n",
    "\n",
    "## 1. From Lists to Data (Little Steps)\n",
    "\n",
    "We’re going to start off using lists and dictionaries that *we* define\n",
    "right at the start of the ‘program’, but the *real* value of these data\n",
    "structures comes when we build a list or dictionary *from* data such as\n",
    "a file or a web page… and that’s what we’re going to do below!\n",
    "\n",
    "First, here’s a reminder of some useful methods (*i.e.* functions) that\n",
    "apply to lists which we covered in the\n",
    "[lecture](https://jreades.github.io/fsds/sessions/week2.html#lectures)\n",
    "and\n",
    "[practical](https://jreades.github.io/fsds/sessions/week2.html#practical)\n",
    "in Week 2:\n",
    "\n",
    "| Method | Action |\n",
    "|--------------------|----------------------------------------------------|\n",
    "| `list.count(x)` | Return the number of times x appears in the list |\n",
    "| `list.insert(i, x)` | Insert value `x` at a given position `i` |\n",
    "| `list.pop([i])` | Remove and return the value at position `i` (`i` is optional) |\n",
    "| `list.remove(x)` | Remove the first element from the list whose value is `x` |\n",
    "| `list.reverse()` | Reverse the elements of the list in place |\n",
    "| `list.sort()` | Sort the items of the list in place |\n",
    "| `list.index(x)` | Find the first occurence of `x` in the list |\n",
    "| `list[x:y]` | Slice the list from index `x` to `y-1` |\n",
    "\n",
    "This should all be revision… because it’s how we finished things up\n",
    "*last week*. But I want to go over it *briefly* again because we’re\n",
    "going to build on it this week.\n",
    "\n",
    "> **Hint**\n",
    ">\n",
    "> As before, `??` will highlight where one or more bit of code are\n",
    "> missing and need to be filled in…\n",
    "\n",
    "### 1.1 List Refresher\n",
    "\n",
    "> **Difficulty: Low.**\n",
    "\n",
    "To complete these tasks, all of the methods that you need are listed\n",
    "above, so this is about testing yourself on your understanding *both* of\n",
    "how to read the help *and* how to index elements in a list.\n",
    "\n",
    "The next line creates a list of city names (each element is a string):"
   ]
  },
  {
   "cell_type": "code",
   "execution_count": 2,
   "id": "5e269317",
   "metadata": {},
   "outputs": [],
   "source": [
    "cities = [\"Bristol\", \"London\", \"Manchester\", \"Edinburgh\", \"Belfast\", \"York\"]"
   ]
  },
  {
   "cell_type": "markdown",
   "id": "0d331cd0-3056-47fc-9890-ce37b5f4204b",
   "metadata": {},
   "source": [
    "#### 1.1.1 List Arithmetic\n",
    "\n",
    "Replace the `??` so that it prints `Belfast`.\n",
    "\n",
    "##### 1.1.1.1 Question"
   ]
  },
  {
   "cell_type": "code",
   "execution_count": 3,
   "id": "91f3fb82-c41a-45e3-b2e5-54fef860e909",
   "metadata": {},
   "outputs": [
    {
     "name": "stdout",
     "output_type": "stream",
     "text": [
      "Belfast\n"
     ]
    }
   ],
   "source": [
    "print(cities[2 + 2])"
   ]
  },
  {
   "cell_type": "markdown",
   "id": "7e01760d-a032-412e-87e5-b538e848eca9",
   "metadata": {},
   "source": [
    "#### 1.1.2 Negative List Arithmetic\n",
    "\n",
    "Use a **negative** index to print `Belfast`:\n",
    "\n",
    "##### 1.1.2.1 Question"
   ]
  },
  {
   "cell_type": "code",
   "execution_count": 4,
   "id": "d4841a77-cac1-4646-ab1f-44e69a314da2",
   "metadata": {},
   "outputs": [
    {
     "name": "stdout",
     "output_type": "stream",
     "text": [
      "Belfast\n"
     ]
    }
   ],
   "source": [
    "print(cities[-2])"
   ]
  },
  {
   "cell_type": "markdown",
   "id": "56ed9ad6-6d3e-4257-9f9d-2e9e0880153b",
   "metadata": {},
   "source": [
    "#### 1.1.3 Finding a Position in a List\n",
    "\n",
    "Replace the `??` so that it prints the *index* for Manchester in the\n",
    "list.\n",
    "\n",
    "##### 1.1.3.1 Question"
   ]
  },
  {
   "cell_type": "code",
   "execution_count": 5,
   "id": "d2327466-01a0-4fe7-8371-fd5eaece631c",
   "metadata": {},
   "outputs": [
    {
     "name": "stdout",
     "output_type": "stream",
     "text": [
      "The position of Manchester in the list is: 2\n"
     ]
    }
   ],
   "source": [
    "print(\"The position of Manchester in the list is: \" + str( cities.index(\"Manchester\") ))"
   ]
  },
  {
   "cell_type": "markdown",
   "id": "0b822d5c-38bc-42d2-806f-885c99b0950e",
   "metadata": {},
   "source": [
    "### 1.2 Looking Across Lists\n",
    "\n",
    "> **Connections**\n",
    ">\n",
    "> This section draws on the\n",
    "> [LOLs](https://jreades.github.io/fsds/sessions/week3.html#lectures)\n",
    "> lecture and you will also find Code Camp’s\n",
    "> [Loops](https://jreades.github.io/code-camp/lessons/Loops.html)\n",
    "> session useful here.\n",
    "\n",
    "> **Difficulty: Medium.**\n",
    "\n",
    "Notice that the list of `temperatures` below is the same length as the\n",
    "list of `cities`, that’s because these are (roughly) the average\n",
    "temperatures for each city."
   ]
  },
  {
   "cell_type": "code",
   "execution_count": 6,
   "id": "6a56a6a2",
   "metadata": {},
   "outputs": [],
   "source": [
    "cities = [\"Bristol\", \"London\", \"Manchester\", \"Edinburgh\", \"Belfast\", \"York\"]\n",
    "temperatures = [15.6, 16.5, 13.4, 14.0, 15.2, 14.8]"
   ]
  },
  {
   "cell_type": "markdown",
   "id": "1e2e8a60-99f6-4ac8-b530-36ace129fa06",
   "metadata": {},
   "source": [
    "#### 1.2.1 Lateral Thinking\n",
    "\n",
    "Given what you know about `cities` and `temperatures`, how do you print:\n",
    "\n",
    "> “The average temperature in Manchester is 13.4 degrees”\n",
    "\n",
    "But you have to do this *without* doing any of the following:\n",
    "\n",
    "1.  Using a list index directly (*i.e.* `cities[2]` and\n",
    "    `temperatures[2]`) or\n",
    "2.  Hard-coding the name of the city?\n",
    "\n",
    "To put it another way, **neither** of these solutions is the answer:\n",
    "\n",
    "``` python\n",
    "print(\"The average temperature in Manchester is \" + str(temperatures[2]) + \" degrees.\")\n",
    "# ...OR...\n",
    "city=2\n",
    "print(\"The average temperature in \" + cities[city] + \" is \" + str(temperatures[city]) + \" degrees.\")\n",
    "```\n",
    "\n",
    "> **Tip**\n",
    ">\n",
    "> You will need to combine some of the ideas above and also think about\n",
    "> the fact that the list index is that we need is the same in both\n",
    "> lists… Also, remember that you’ll need to wrap a `str(...)` around\n",
    "> your temperature to make it into a string.\n",
    "\n",
    "##### 1.2.1.1 Question"
   ]
  },
  {
   "cell_type": "code",
   "execution_count": 12,
   "id": "66233d08-a66d-4179-b3ed-4acc4c6afc71",
   "metadata": {},
   "outputs": [
    {
     "name": "stdout",
     "output_type": "stream",
     "text": [
      "The average temperature in Manchester is 13.4\n",
      "The average temperature in Manchester is 13.4\n"
     ]
    }
   ],
   "source": [
    "city=\"Manchester\" # Use this to get the solution...\n",
    "\n",
    "# This way is perfectly fine\n",
    "print(\"The average temperature in \" + city + \" is \" + str(temperatures[cities.index(city)]))\n",
    "\n",
    "# This way is more Python 3 and a bit easier to read\n",
    "print(f\"The average temperature in {city} is {temperatures[cities.index(city)]}\")"
   ]
  },
  {
   "cell_type": "markdown",
   "id": "c3833044-5625-4c4e-b6b5-969664a0734a",
   "metadata": {},
   "source": [
    "#### 1.2.2 Double-Checking Your Solution\n",
    "\n",
    "You’ll know that you got the ‘right’ answer to the question above if you\n",
    "can copy+paste your code and change only **one** thing in order to print\n",
    "out: “The average temperature in Belfast is 15.2 degrees”\n",
    "\n",
    "##### 1.2.2.1 Question"
   ]
  },
  {
   "cell_type": "code",
   "execution_count": 13,
   "id": "b1f999b0-24f3-400b-a339-107e745ea55c",
   "metadata": {},
   "outputs": [
    {
     "name": "stdout",
     "output_type": "stream",
     "text": [
      "The average temperature in Belfast is 15.2\n"
     ]
    }
   ],
   "source": [
    "city=\"Belfast\"\n",
    "print(\"The average temperature in \" + city + \" is \" + str(temperatures[cities.index(city)]))"
   ]
  },
  {
   "cell_type": "markdown",
   "id": "2cf9042d-4144-4e4c-9ded-acc2870c755c",
   "metadata": {},
   "source": [
    "#### 1.2.3 Loops\n",
    "\n",
    "Now use a `for` loop over the cities to print out the average\n",
    "temperature in each city:\n",
    "\n",
    "##### 1.2.3.1 Question"
   ]
  },
  {
   "cell_type": "code",
   "execution_count": 16,
   "id": "6bae30ee-fd6d-441b-a806-28472f8282a9",
   "metadata": {},
   "outputs": [
    {
     "name": "stdout",
     "output_type": "stream",
     "text": [
      "The average temperature in Bristol is 15.6\n",
      "The average temperature in London is 16.5\n",
      "The average temperature in Manchester is 13.4\n",
      "The average temperature in Edinburgh is 14.0\n",
      "The average temperature in Belfast is 15.2\n",
      "The average temperature in York is 14.8\n"
     ]
    }
   ],
   "source": [
    "for c in cities:\n",
    "    print(\"The average temperature in \" + c + \" is \" + str(temperatures[cities.index(c)]))"
   ]
  },
  {
   "cell_type": "markdown",
   "id": "1dfdde84-69ef-4c80-a82f-7ae60892b46d",
   "metadata": {},
   "source": [
    "The output should be:"
   ]
  },
  {
   "cell_type": "code",
   "execution_count": null,
   "id": "a7c18474-9157-425b-ab40-b0d13a98c27d",
   "metadata": {},
   "outputs": [],
   "source": [
    "The average temperature in Bristol is 15.6\n",
    "The average temperature in London is 16.5\n",
    "The average temperature in Manchester is 13.4\n",
    "The average temperature in Edinburgh is 14.0\n",
    "The average temperature in Belfast is 15.2\n",
    "The average temperature in York is 14.8"
   ]
  },
  {
   "cell_type": "markdown",
   "id": "1b30a601-7df3-4e9a-8b1d-ed3f53ae5b66",
   "metadata": {},
   "source": [
    "## 2. Dictionaries\n",
    "\n",
    "> **Connections**\n",
    ">\n",
    "> This section draws on the\n",
    "> [Dictionaries](https://jreades.github.io/fsds/sessions/week3.html#lectures)\n",
    "> lecture and Code Camp\n",
    "> [Dictonaries](https://jreades.github.io/code-camp/lessons/Dicts.html)\n",
    "> session.\n",
    "\n",
    "> **Difficulty: Low.**\n",
    "\n",
    "Remember that dictionaries (a.k.a. dicts) are like lists in that they\n",
    "are [data\n",
    "structures](https://docs.python.org/2/tutorial/datastructures.html)\n",
    "containing multiple elements. A key difference between\n",
    "[dictionaries](https://docs.python.org/2/tutorial/datastructures.html#dictionaries)\n",
    "and [lists](https://docs.python.org/2/tutorial/introduction.html#lists)\n",
    "is that while elements in lists are ordered, dicts (in most programming\n",
    "languages, though not Python) are unordered. This means that whereas for\n",
    "lists we use integers as indexes to access elements, in dictonaries we\n",
    "use ‘keys’ (which can multiple different types; strings, integers,\n",
    "etc.). Consequently, an important concept for dicts is that of key-value\n",
    "pairs.\n",
    "\n",
    "### 2.1 Creating an Atlas\n",
    "\n",
    "The code below creates an Atlas using a dictionary. The dictionary `key`\n",
    "is a city name, and the `value` is the latitude, longitude, and main\n",
    "airport code."
   ]
  },
  {
   "cell_type": "code",
   "execution_count": 17,
   "id": "c6fdcb5d",
   "metadata": {},
   "outputs": [],
   "source": [
    "cities = {\n",
    "    'San Francisco': [37.77, -122.43, 'SFO'],\n",
    "    'London': [51.51, -0.08, 'LDN'],\n",
    "    'Paris': [48.86,2.29, 'PAR'],\n",
    "    'Beijing': [39.92,116.40 ,'BEI'],\n",
    "}"
   ]
  },
  {
   "cell_type": "markdown",
   "id": "6d506fc0-7b49-4c79-abf8-b218ad30d228",
   "metadata": {},
   "source": [
    "#### 2.1.1 Adding to a Dict\n",
    "\n",
    "Add a record to the dictionary for Chennai ([data\n",
    "here](https://en.wikipedia.org/wiki/Chennai))\n",
    "\n",
    "##### 2.1.1.1 Question"
   ]
  },
  {
   "cell_type": "code",
   "execution_count": 18,
   "id": "9392e8d6-f4c5-4e5e-be0b-338810f70b03",
   "metadata": {},
   "outputs": [
    {
     "name": "stdout",
     "output_type": "stream",
     "text": [
      "{'San Francisco': [37.77, -122.43, 'SFO'], 'London': [51.51, -0.08, 'LDN'], 'Paris': [48.86, 2.29, 'PAR'], 'Beijing': [39.92, 116.4, 'BEI'], 'Chennai': [13.4, 80.16, 'MAA']}\n"
     ]
    }
   ],
   "source": [
    "cities['Chennai'] = [13.40, 80.16, 'MAA']\n",
    "print(cities)"
   ]
  },
  {
   "cell_type": "markdown",
   "id": "056de244-1e67-4129-862c-7504be657ebd",
   "metadata": {},
   "source": [
    "#### 2.1.2 Accessing a Dict\n",
    "\n",
    "In *one* line of code, print out the airport code for Chennai (`MAA`):\n",
    "\n",
    "##### 2.1.2.1 Question"
   ]
  },
  {
   "cell_type": "code",
   "execution_count": 19,
   "id": "0dc4891c-5dfe-4f31-b4f1-378c9d5a9a18",
   "metadata": {},
   "outputs": [
    {
     "name": "stdout",
     "output_type": "stream",
     "text": [
      "MAA\n"
     ]
    }
   ],
   "source": [
    "print(cities['Chennai'][2])"
   ]
  },
  {
   "cell_type": "markdown",
   "id": "7e214356-cf66-4a97-98b3-7222569d3c79",
   "metadata": {},
   "source": [
    "### 2.2 Dealing With Errors\n",
    "\n",
    "Check you understand the difference between the following two blocks of\n",
    "code by running them."
   ]
  },
  {
   "cell_type": "code",
   "execution_count": 20,
   "id": "f4d244f5",
   "metadata": {},
   "outputs": [
    {
     "name": "stdout",
     "output_type": "stream",
     "text": [
      "Error found\n",
      "'Berlin'\n"
     ]
    }
   ],
   "source": [
    "try:\n",
    "    print(cities['Berlin'])\n",
    "except KeyError as e:\n",
    "    print(\"Error found\")\n",
    "    print(e)"
   ]
  },
  {
   "cell_type": "code",
   "execution_count": 21,
   "id": "662cdc48",
   "metadata": {},
   "outputs": [
    {
     "name": "stdout",
     "output_type": "stream",
     "text": [
      "Not Found\n"
     ]
    }
   ],
   "source": [
    "try:\n",
    "    print(cities.get('Berlin','Not Found'))\n",
    "except KeyError as e:\n",
    "    print(\"Error found\")\n",
    "    print(e)"
   ]
  },
  {
   "cell_type": "markdown",
   "id": "97dc42cc-8c93-4ea4-8182-57087ad28df1",
   "metadata": {},
   "source": [
    "Notice that trying to access a non-existent element of a dict triggers a\n",
    "`KeyError`, while asking the dict to `get` the *same element* does not,\n",
    "it simply returns `None`. Can you think why, depending on the\n",
    "situtation, *either* of these might be the ‘correct’ answer?\n",
    "\n",
    "### 2.3 Thinking Data\n",
    "\n",
    "This section makes use of both the\n",
    "[Dictionaries](https://jreades.github.io/fsds/sessions/week3.html#lectures)\n",
    "lecture and the [DOLs to\n",
    "Data](https://jreades.github.io/fsds/sessions/week3.html#lectures)\n",
    "lecture.\n",
    "\n",
    "> **Tip**\n",
    ">\n",
    "> In this section you’ll need to look up (i.e. Google) and make use of a\n",
    "> few new functions that apply to dictionaries: `<dictionary>.items()`,\n",
    "> `<dictionary>.keys()`. *Remember*: if in doubt, add `print(...)`\n",
    "> statements to see what is going on!\n",
    "\n",
    "#### 2.3.1 Iterating over a Dict\n",
    "\n",
    "Adapting the code below, print out the city name and airport code for\n",
    "every city in our Atlas.\n",
    "\n",
    "##### 2.3.1.1 Question"
   ]
  },
  {
   "cell_type": "code",
   "execution_count": 22,
   "id": "12ac7645-13d3-4db5-a279-c01acc45e6aa",
   "metadata": {},
   "outputs": [
    {
     "name": "stdout",
     "output_type": "stream",
     "text": [
      "San Francisco SFO\n",
      "London LDN\n",
      "Paris PAR\n",
      "Beijing BEI\n",
      "Chennai MAA\n"
     ]
    }
   ],
   "source": [
    "for c in cities.keys():\n",
    "    print(c, cities[c][2])"
   ]
  },
  {
   "cell_type": "markdown",
   "id": "84202547-aad5-4131-bc7a-02fa11cea24e",
   "metadata": {},
   "source": [
    "The output should look something like this:"
   ]
  },
  {
   "cell_type": "code",
   "execution_count": null,
   "id": "b9731f8a-7bb7-4d48-9a73-e2885a1e3d21",
   "metadata": {},
   "outputs": [],
   "source": [
    "San Francisco -> SFO\n",
    "London -> LDN\n",
    "Paris -> PAR\n",
    "Beijing -> BEI\n",
    "Chennai -> MAA"
   ]
  },
  {
   "cell_type": "markdown",
   "id": "83829837-add4-4729-96f6-fb240deccc44",
   "metadata": {},
   "source": [
    "#### 2.3.2 More Complex Dicts\n",
    "\n",
    "How would your code need to change to produce the *same output* from\n",
    "this data structure:"
   ]
  },
  {
   "cell_type": "code",
   "execution_count": 23,
   "id": "d799eb30",
   "metadata": {},
   "outputs": [],
   "source": [
    "cities = {\n",
    "    'San Francisco': {\n",
    "        'lat': 37.77, \n",
    "        'lon': -122.43,\n",
    "        'airport': 'SFO'},\n",
    "    'London': {\n",
    "        'lat': 51.51, \n",
    "        'lon': -0.08, \n",
    "        'airport': 'LDN'},\n",
    "    'Paris': {\n",
    "        'lat': 48.86,\n",
    "        'lon': 2.29, \n",
    "        'airport': 'PAR'},\n",
    "    'Beijing': {\n",
    "        'lat': 39.92,\n",
    "        'lon': 116.40,\n",
    "        'airport': 'BEI'},\n",
    "    'Chennai': { \n",
    "        'lat': 13.08, \n",
    "        'lon': 80.28, \n",
    "        'airport': 'MAA'}\n",
    "}"
   ]
  },
  {
   "cell_type": "markdown",
   "id": "d98dd1eb-384c-42c6-b20f-bf92807069f7",
   "metadata": {},
   "source": [
    "##### 2.3.2.1 Question"
   ]
  },
  {
   "cell_type": "code",
   "execution_count": 24,
   "id": "0302d2ef-6a44-468c-8756-700539738467",
   "metadata": {},
   "outputs": [
    {
     "name": "stdout",
     "output_type": "stream",
     "text": [
      "San Francisco SFO\n",
      "London LDN\n",
      "Paris PAR\n",
      "Beijing BEI\n",
      "Chennai MAA\n"
     ]
    }
   ],
   "source": [
    "for c in cities.keys():\n",
    "    print(c, cities[c]['airport'])"
   ]
  },
  {
   "cell_type": "markdown",
   "id": "c83f9500-540e-4bd2-8057-4a1ef1a5c7cf",
   "metadata": {},
   "source": [
    "#### 2.3.3 More Dictionary Action!\n",
    "\n",
    "And how would it need to change to print out the name and latitude of\n",
    "every city?\n",
    "\n",
    "##### 2.3.3.1 Question"
   ]
  },
  {
   "cell_type": "code",
   "execution_count": 28,
   "id": "d09b81d0-3176-45e0-b4aa-3b0a6d9a3eda",
   "metadata": {},
   "outputs": [
    {
     "name": "stdout",
     "output_type": "stream",
     "text": [
      "San Francisco is at latitude 37.77\n",
      "London is at latitude 51.51\n",
      "Paris is at latitude 48.86\n",
      "Beijing is at latitude 39.92\n",
      "Chennai is at latitude 13.08\n"
     ]
    }
   ],
   "source": [
    "for c in cities.keys():\n",
    "    print(f\"{c} is at latitude {cities[c]['lat']}\")"
   ]
  },
  {
   "cell_type": "markdown",
   "id": "99de5eaa-b06d-4ea2-806d-01663aa84b7d",
   "metadata": {},
   "source": [
    "The output should be something like this:"
   ]
  },
  {
   "cell_type": "code",
   "execution_count": null,
   "id": "9638a39c-527f-4a6e-807d-e068dc5213b8",
   "metadata": {},
   "outputs": [],
   "source": [
    "San Francisco is at latitude 37.77\n",
    "London is at latitude 51.51\n",
    "Paris is at latitude 48.86\n",
    "Beijing is at latitude 39.92\n",
    "Chennai is at latitude 13.08"
   ]
  },
  {
   "cell_type": "markdown",
   "id": "8d8300a0-afd0-4abe-976f-5d7dad33246e",
   "metadata": {},
   "source": [
    "#### 2.3.4 And Another Way to Use a Dict\n",
    "\n",
    "Now produce the *same output* using this new data structure:"
   ]
  },
  {
   "cell_type": "code",
   "execution_count": 29,
   "id": "e7c81186",
   "metadata": {},
   "outputs": [],
   "source": [
    "cities_alt = [\n",
    "    {'name':     'San Francisco',\n",
    "     'position': [37.77, -122.43],\n",
    "     'airport':  'SFO'},\n",
    "    {'name':     'London',\n",
    "     'position': [51.51, -0.08],\n",
    "     'airport':  'LDN'},\n",
    "    {'name':     'Paris',\n",
    "     'position': [48.86, 2.29],\n",
    "     'airport':  'PAR'},\n",
    "    {'name':     'Beijing',\n",
    "     'position': [39.92, 116.40],\n",
    "     'airport':  'BEI'},\n",
    "    {'name':     'Chennai', \n",
    "     'position': [13.08, 80.28],\n",
    "      'airport': 'MAA'}\n",
    "]"
   ]
  },
  {
   "cell_type": "markdown",
   "id": "e39c4fef-6807-4148-9316-d8736f96dd3d",
   "metadata": {},
   "source": [
    "##### Question\n",
    "\n",
    "``` python\n",
    "for c in cities_alt:\n",
    "    print(??)\n",
    "```\n",
    "\n",
    "The output should be something like this:\n",
    "\n",
    "    San Francisco is at latitude 37.77\n",
    "    London is at latitude 51.51\n",
    "    Paris is at latitude 48.86\n",
    "    Beijing is at latitude 39.92\n",
    "    Chennai is at latitude 13.08\n",
    "\n",
    "##### Answer\n",
    "\n",
    "``` python\n",
    "for c in cities_alt:\n",
    "    print(f\"{c['name']} is at latitude {c['position'][0]}\")\n",
    "```\n",
    "\n",
    "    San Francisco is at latitude 37.77\n",
    "    London is at latitude 51.51\n",
    "    Paris is at latitude 48.86\n",
    "    Beijing is at latitude 39.92\n",
    "    Chennai is at latitude 13.08\n",
    "\n",
    "#### 2.3.5 Think Data!\n",
    "\n",
    "What are some of the main differences that you can think of between\n",
    "`cities` and `cities_alt` *as* data? There is no right answer.\n",
    "\n",
    "> **Tip**\n",
    ">\n",
    "> I just want you to think about these *as data*! If you were trying to\n",
    "> use `cities` and `cities_alt` as data what differences would you find\n",
    "> when accessing one or more ‘records’?\n",
    "\n",
    "-   Point 1 here.\n",
    "-   Point 2 here.\n",
    "-   Point 3 here."
   ]
  }
 ],
 "metadata": {
  "kernelspec": {
   "display_name": "Python (base)",
   "language": "python",
   "name": "base"
  },
  "language_info": {
   "codemirror_mode": {
    "name": "ipython",
    "version": 3
   },
   "file_extension": ".py",
   "mimetype": "text/x-python",
   "name": "python",
   "nbconvert_exporter": "python",
   "pygments_lexer": "ipython3",
   "version": "3.11.9"
  }
 },
 "nbformat": 4,
 "nbformat_minor": 5
}
