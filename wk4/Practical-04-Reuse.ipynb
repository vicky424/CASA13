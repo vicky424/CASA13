{
 "cells": [
  {
   "cell_type": "markdown",
   "id": "cf41c978-2451-42cc-9000-ed7b88e62443",
   "metadata": {},
   "source": [
    "## Practical 4: Efficient Code\n",
    "\n",
    "Packages, Decorators, and Functions\n",
    "\n",
    "In this notebook we are going to look in more detail at how we can\n",
    "reduce, reuse, and recycle our code to make our lives easier and our\n",
    "code more efficient.\n",
    "\n",
    "## 1. Tackling Programming Problems\n",
    "\n",
    "> **Connections**\n",
    ">\n",
    "> You will find links here to the Code Camp sessions on\n",
    "> [Functions](https://jreades.github.io/code-camp/lessons/Functions.html)\n",
    "> and\n",
    "> [Packages](https://jreades.github.io/code-camp/lessons/Packages.html),\n",
    "> as well as to this week’s lectures on\n",
    "> [Functions](https://jreades.github.io/fsds/sessions/week3.html#lectures)\n",
    "> and\n",
    "> [Packages](https://jreades.github.io/fsds/sessions/week3.html#lectures).\n",
    "\n",
    "> **Difficulty: Medium.**\n",
    "\n",
    "Let’s now think about how to approach problems in programming (with\n",
    "code) and how that might differ from other ways of thinking.\n",
    "\n",
    "The problem we will use here as an example is: *download a data file\n",
    "that we know is hosted on a web site and output some information about\n",
    "those data*. This sounds hard. It *is* hard when you’re just starting\n",
    "out in programming. But it is *not* hard for a computer… *iff* we can\n",
    "figure out what to tell it to do *and* make use of work that other\n",
    "people have done for us!\n",
    "\n",
    "#### 1.0.1 What Do We Do? Break It Down!\n",
    "\n",
    "##### 1.0.1.1 Step 1. Analyse the Problem\n",
    "\n",
    "The first step to writing a program is thinking about your goal and the\n",
    "steps required to achieve that. We ***don’t*** write programs like we\n",
    "write essays: all at once by writing a whole lot of code and then hoping\n",
    "for the best when we hit ‘submit’. \n",
    "\n",
    "When you’re tackling a programming problem you break it down into\n",
    "separate, simpler steps, and then tick them off one by one. Doing this\n",
    "gets easier as you become more familiar with programming, but it remains\n",
    "crucial and, in many cases, good programmers in large companies spend\n",
    "more time on *design* than they do on actual *coding*.\n",
    "\n",
    "##### 1.0.1.2 Step 2. Functions & Packages\n",
    "\n",
    "We have discussed how *functions* are a useful programming tool to\n",
    "enable us to re-use chunks of code. Basically, a function is a way to do\n",
    "something to something in a portable, easy-to-use little bundle of code.\n",
    "\n",
    "Some steps in a program are done so many times by so many people that,\n",
    "eventually, someone writes a *package* that bundles up those operations\n",
    "into something easy to use that saves *you* having to figure out the\n",
    "gory details. Reading a file (even one on a computer halfway round the\n",
    "world) is one of those things. Making sense of the data *in* that file\n",
    "for you is probably not.\n",
    "\n",
    "<figure>\n",
    "<img src=\"https://imgs.xkcd.com/comics/tasks.png\"\n",
    "alt=\"xkcd: Easy vs. Hard\" />\n",
    "<figcaption aria-hidden=\"true\">xkcd: Easy vs. Hard</figcaption>\n",
    "</figure>\n",
    "\n",
    "To a computer, reading data from a remote location (e.g. a web site\n",
    "halfway around the world) is not really any different from reading one\n",
    "that’s sitting on your your local hard drive (e.g. on your desktop). To\n",
    "simplify things a great deal: the computer really just needs to know the\n",
    "location of the file and an appropriate *protocol* for accessing that\n",
    "file (*e.g.* http, https, ftp, local…) and then a clever programming\n",
    "language like Python will typically have packages that can kind of take\n",
    "of the rest.\n",
    "\n",
    "In all cases – local and remote – you use the package to handle the hard\n",
    "bit of knowing how to actually ‘read’ data (because all files are just\n",
    "`1`s and `0`s of data) at the *device* level and then Python gives you\n",
    "back a ‘file handle’ that helps you to achieve things like ‘read a line’\n",
    "or ‘close an open file’. You can think of a filehandle as something that\n",
    "gives you a ‘grip’ on a file-like object no matter where or what it is,\n",
    "and the package is the way that this magic is achieved.\n",
    "\n",
    "##### 1.0.1.3 Step 3. Look for Ways to Recycle\n",
    "\n",
    "**Always** look for ways to avoid reinventing the wheel. This is where\n",
    "Python’s packages (or R’s for that matter) come into their own. If it’s\n",
    "something that programmers often need to do, then chances are that\n",
    "someone has written a package to do it!\n",
    "\n",
    "The point of packages is that they can help us to achieve quite a lot\n",
    "very quickly since we can just make use of someone else’s code. In the\n",
    "same way that we won’t mark you down for Googling the answer to a coding\n",
    "question, we *also* won’t mark you down for using someone else’s package\n",
    "to help you get going with your programming. ***That’s the whole\n",
    "point!***\n",
    "\n",
    "Often, if you’re not sure where to start, Google (or StackOverflow) is\n",
    "the place to go:\n",
    "\n",
    "[`how to read text file on web server python`](https://www.google.co.uk/search?q=how+to+read+text+file+on+web+server+python&oq=how+to+read+text+file+on+web+server+python&aqs=chrome..69i57.629j0j7&sourceid=chrome&ie=UTF-8)\n",
    "\n",
    "Boom!\n",
    "\n",
    "##### 1.0.1.4 Step 4. Make a Plan\n",
    "\n",
    "OK, so we need to break this *hard* problem down into something simpler.\n",
    "We can do this by thinking about it as three separate steps:\n",
    "\n",
    "1.  We want to read a remote file (i.e. a text file somewhere the\n",
    "    planet),\n",
    "2.  We want to turn it into a local data structure (i.e a list or a\n",
    "    dictionary),\n",
    "3.  We want to perform some calculations on the data (e.g. calculate the\n",
    "    mean, find the easternmost city, etc.).\n",
    "\n",
    "We can tackle each of those in turn, getting the first bit working, then\n",
    "adding the second bit, etc. It’s just like using lego to build\n",
    "something: you take the same pieces and assemble them in different ways\n",
    "to produce different things.\n",
    "\n",
    "### 1.1 Reading a Remote File\n",
    "\n",
    "So, we are going to [download a file from\n",
    "GitHub](https://github.com/jreades/fsds/blob/master/data/src/Wikipedia-Cities-simple.csv),\n",
    "but we **aren’t going to to try to turn it into data** or otherwise make\n",
    "‘sense’ of it yet, we just want to **read** it. We are then going to\n",
    "build from this first step towards the rest of the steps!\n",
    "\n",
    "Because we’re accessing data from a ‘URL’ we need to use the `urlopen`\n",
    "[function](https://docs.python.org/3.0/library/urllib.request.html?highlight=urlopen#urllib.request.urlopen)\n",
    "from the `urllib.request`\n",
    "[package](https://docs.python.org/3.0/library/urllib.request.html). If\n",
    "you’re wondering how we know to use this function and package, you might\n",
    "google something like: *read remote csv file python 3* which in turn\n",
    "might get you to a StackOverflow question and answer like\n",
    "[this](https://stackoverflow.com/questions/36965864/opening-a-url-with-urllib-in-python-3)."
   ]
  },
  {
   "cell_type": "raw",
   "id": "0083996c-490c-4c73-a205-9c58283e5e14",
   "metadata": {
    "raw_mimetype": "text/html"
   },
   "source": [
    "<style type=\"text/css\">\n",
    ".longform {\n",
    "    max-height: 500px;\n",
    "    overflow-y: scroll;\n",
    "}\n",
    "</style>"
   ]
  },
  {
   "cell_type": "markdown",
   "id": "2e4b103b-45b6-4a56-a829-02a34758be47",
   "metadata": {},
   "source": [
    "``` python\n",
    "from urllib.request import urlopen\n",
    "help(urlopen)\n",
    "```\n",
    "\n",
    "    Help on function urlopen in module urllib.request:\n",
    "\n",
    "    urlopen(url, data=None, timeout=<object object at 0x102f1cb70>, *, cafile=None, capath=None, cadefault=False, context=None)\n",
    "        Open the URL url, which can be either a string or a Request object.\n",
    "\n",
    "        *data* must be an object specifying additional data to be sent to\n",
    "        the server, or None if no such data is needed.  See Request for\n",
    "        details.\n",
    "\n",
    "        urllib.request module uses HTTP/1.1 and includes a \"Connection:close\"\n",
    "        header in its HTTP requests.\n",
    "\n",
    "        The optional *timeout* parameter specifies a timeout in seconds for\n",
    "        blocking operations like the connection attempt (if not specified, the\n",
    "        global default timeout setting will be used). This only works for HTTP,\n",
    "        HTTPS and FTP connections.\n",
    "\n",
    "        If *context* is specified, it must be a ssl.SSLContext instance describing\n",
    "        the various SSL options. See HTTPSConnection for more details.\n",
    "\n",
    "        The optional *cafile* and *capath* parameters specify a set of trusted CA\n",
    "        certificates for HTTPS requests. cafile should point to a single file\n",
    "        containing a bundle of CA certificates, whereas capath should point to a\n",
    "        directory of hashed certificate files. More information can be found in\n",
    "        ssl.SSLContext.load_verify_locations().\n",
    "\n",
    "        The *cadefault* parameter is ignored.\n",
    "\n",
    "\n",
    "        This function always returns an object which can work as a\n",
    "        context manager and has the properties url, headers, and status.\n",
    "        See urllib.response.addinfourl for more detail on these properties.\n",
    "\n",
    "        For HTTP and HTTPS URLs, this function returns a http.client.HTTPResponse\n",
    "        object slightly modified. In addition to the three new methods above, the\n",
    "        msg attribute contains the same information as the reason attribute ---\n",
    "        the reason phrase returned by the server --- instead of the response\n",
    "        headers as it is specified in the documentation for HTTPResponse.\n",
    "\n",
    "        For FTP, file, and data URLs and requests explicitly handled by legacy\n",
    "        URLopener and FancyURLopener classes, this function returns a\n",
    "        urllib.response.addinfourl object.\n",
    "\n",
    "        Note that None may be returned if no handler handles the request (though\n",
    "        the default installed global OpenerDirector uses UnknownHandler to ensure\n",
    "        this never happens).\n",
    "\n",
    "        In addition, if proxy settings are detected (for example, when a *_proxy\n",
    "        environment variable like http_proxy is set), ProxyHandler is default\n",
    "        installed and makes sure the requests are handled through the proxy.\n",
    "\n",
    "As you can see, there is *lot* of information here about how things\n",
    "work. A *lot* of it won’t make much sense at the moment. That’s ok.\n",
    "*Some* of this doesn’t make much sense to me, but that’s because this is\n",
    "the *full* documentation from Python so it’s trying to cover *all* the\n",
    "bases. You don’t need to read every line of this, what you are looking\n",
    "is information about things like the ‘signature’ (what parameters the\n",
    "function accepts) and its output. Of course, you can also *just Google\n",
    "it*!\n",
    "\n",
    "> **Tip**\n",
    ">\n",
    "> Remember that you can use `dir(...)` and `help(...)` to investigate\n",
    "> what a package offers. You can also get help in Jupyter by typing `?`\n",
    "> before the function that you want to call.\n",
    "\n",
    "> **URLError?**\n",
    ">\n",
    "> If you are working behind a firewall (esp. if working on this\n",
    "> practical in, say, China) then there is a *chance* you will get a\n",
    "> `URLError` (`<urlopen error [Errno 110044] getaddrinfo failed>`). This\n",
    "> is a ‘[proxy\n",
    "> error](https://stackoverflow.com/questions/7334199/getaddrinfo-failed-what-does-that-mean)’\n",
    "> and in this case you may need to [configure your\n",
    "> environment](https://stackoverflow.com/a/28153935) as follows:\n",
    ">\n",
    ">     import os\n",
    ">     os.environ['HTTP_PROXY'] = 'http://127.0.0.1:10809'\n",
    ">     os.environ['HTTPS_PROXY'] = 'http://127.0.0.1:10809'\n",
    "\n",
    "Before you start working on the code, why not open the data file\n",
    "[directly in your\n",
    "browser](https://raw.githubusercontent.com/jreades/fsds/master/data/src/Wikipedia-Cities-simple.csv)?\n",
    "It’s pretty small, and it will give you a sense of what is going on.\n",
    "\n",
    "``` python\n",
    "from urllib.request import URLError\n",
    "from urllib.request import urlopen\n",
    "\n",
    "# Given the info you were given above, what do you \n",
    "# think the value of 'url' should be? What\n",
    "# type of variable is it? int or string? \n",
    "url = 'https://raw.githubusercontent.com/jreades/fsds/master/data/src/Wikipedia-Cities-simple.csv'\n",
    "\n",
    "# Read the URL stream into variable called 'response'\n",
    "# using the function that we imported above\n",
    "try:\n",
    "    response = urlopen(url)\n",
    "except URLError as e:\n",
    "    print(\"Unable to connect to URL!\")\n",
    "    print(e)\n",
    "\n",
    "# You might want to explore what `__class__` and `__name__`\n",
    "# are doing, but basically the give us a way of finding out what\n",
    "# is 'behind' more complex variables\n",
    "\n",
    "# Now read from the stream, decoding so that we get actual text\n",
    "raw = response.read()\n",
    "\n",
    "print(f\"'raw' variable is of type: '{raw.__class__.__name__}'.\")\n",
    "print(f\"Raw content is:\\n{raw[:75]}...\\n\")\n",
    "\n",
    "data = raw.decode('utf-8')\n",
    "\n",
    "print(f\"'data' variable is of type: '{data.__class__.__name__}'.\")\n",
    "print(f\"Decoded content is:\\n{data[:75]}...\")\n",
    "```\n",
    "\n",
    "> **Note**\n",
    ">\n",
    "> Notice that the `raw` data has the format `b'...'` with all of the\n",
    "> data seemingly on one line, while the *decoded* version in `data` is\n",
    "> ‘correctly’ structured with lines! The ‘raw’ data is in *bytecode*\n",
    "> format which is not, strictly, a `string`. It only becomes a string\n",
    "> when we ‘decode it’ to `utf-8` (which is the ‘encoding’ of text that\n",
    "> supports most human languages). While the computer doesn’t\n",
    "> particularly care, we do!\n",
    "\n",
    "Remember that you can treat strings *as lists*, so when we `print` below\n",
    "we cut off the output using the `list[:<Some Number>]` syntax."
   ]
  },
  {
   "cell_type": "code",
   "execution_count": 2,
   "id": "52e84e99-1e18-4072-a289-3b9a009604f0",
   "metadata": {},
   "outputs": [
    {
     "name": "stdout",
     "output_type": "stream",
     "text": [
      "'raw' variable is of type: 'bytes'.\n",
      "Raw content is:\n",
      "b'City,Population,Latitude,Longitude\\r\\nPerth,45770,56.39583,-3.43333\\r\\nArmagh,1'...\n",
      "\n",
      "'data' variable is of type: 'str'.\n",
      "Decoded content is:\n",
      "City,Population,Latitude,Longitude\n",
      "Perth,45770,56.39583,-3.43333\n",
      "Armagh,1...\n"
     ]
    }
   ],
   "source": [
    "from urllib.request import URLError\n",
    "from urllib.request import urlopen\n",
    "\n",
    "url = 'https://raw.githubusercontent.com/jreades/fsds/master/data/src/Wikipedia-Cities-simple.csv'\n",
    "\n",
    "try:\n",
    "    response = urlopen(url)\n",
    "except URLError as e:\n",
    "    print(\"Unable to connect to URL!\")\n",
    "    print(e)\n",
    "\n",
    "raw = response.read()\n",
    "\n",
    "print(f\"'raw' variable is of type: '{raw.__class__.__name__}'.\")\n",
    "print(f\"Raw content is:\\n{raw[:75]}...\\n\")\n",
    "\n",
    "data = raw.decode('utf-8')\n",
    "\n",
    "print(f\"'data' variable is of type: '{data.__class__.__name__}'.\")\n",
    "print(f\"Decoded content is:\\n{data[:75]}...\")"
   ]
  },
  {
   "cell_type": "code",
   "execution_count": 3,
   "id": "455c2505",
   "metadata": {},
   "outputs": [
    {
     "name": "stdout",
     "output_type": "stream",
     "text": [
      "There are 352 characters in the data variable.\n",
      "The first 125 characters are: 'City,Population,Latitude,Longitude\n",
      "Perth,45770,56.39583,-3.43333\n",
      "Armagh,14777,54.3499,-6.6546\n",
      "Dundee,147268,56.462,-2.9707'\n"
     ]
    }
   ],
   "source": [
    "print(f\"There are {len(data)} characters in the data variable.\")\n",
    "print(f\"The first 125 characters are: '{data[:125]}'\") # Notice that '\\n' count here!"
   ]
  },
  {
   "cell_type": "markdown",
   "id": "d4cc99bc-676a-4a15-baa2-255f73127735",
   "metadata": {},
   "source": [
    "So this is definitely text, but it doesn’t (yet) look entirely like the\n",
    "data *we* see because it’s still just one long string, and not *data*\n",
    "which has individual records on each line. To split the text into\n",
    "individual lines, we can use the handily named `.splitlines()` method\n",
    "(more on methods below):\n",
    "\n",
    "##### 1.1.0.1 Question"
   ]
  },
  {
   "cell_type": "code",
   "execution_count": 5,
   "id": "fd556ada-9402-4aa1-94d6-1d5387a2f6dd",
   "metadata": {},
   "outputs": [
    {
     "name": "stdout",
     "output_type": "stream",
     "text": [
      "'rows' variable is of type: list'.\n"
     ]
    }
   ],
   "source": [
    "rows = data.splitlines()    #按换行符分割后储存为列表\n",
    "print(f\"'rows' variable is of type: {rows.__class__.__name__}'.\")"
   ]
  },
  {
   "cell_type": "markdown",
   "id": "005787f5-63dd-4eea-87e1-e79d81c6a68c",
   "metadata": {},
   "source": [
    "Note now, how the *data* variable has type `list`. So to view the data\n",
    "as we see them in the original online file, we can now use a `for` loop\n",
    "to print out each element of the `list` (each element being a row of the\n",
    "original online file):\n",
    "\n",
    "##### 1.1.0.2 Question"
   ]
  },
  {
   "cell_type": "code",
   "execution_count": 6,
   "id": "da676bfc-a4f8-4977-9d89-385bc1affa6f",
   "metadata": {},
   "outputs": [
    {
     "name": "stdout",
     "output_type": "stream",
     "text": [
      "There are 352 rows of data.\n",
      "C\n",
      "i\n"
     ]
    }
   ],
   "source": [
    "print(f\"There are {len(data)} rows of data.\")\n",
    "print(\"\\n\".join(data[0:2])) # New syntax alert! notice we can *join* list elements"
   ]
  },
  {
   "cell_type": "markdown",
   "id": "91733a0c-1353-4634-9ec0-1534feed49ca",
   "metadata": {},
   "source": [
    "That’s a little hard to read, though something has clearly changed.\n",
    "Let’s try printing the last row:"
   ]
  },
  {
   "cell_type": "code",
   "execution_count": 7,
   "id": "7cd281b5",
   "metadata": {},
   "outputs": [
    {
     "name": "stdout",
     "output_type": "stream",
     "text": [
      "Bangor,18808,53.228,-4.128\n"
     ]
    }
   ],
   "source": [
    "print(rows[-1])"
   ]
  },
  {
   "cell_type": "markdown",
   "id": "9546c506-7b28-4d1e-9902-3108dc0e0b7f",
   "metadata": {},
   "source": [
    "**Congratulations!** You’ve now read a text file sitting on a server in,\n",
    "I think, Canada and Python *didn’t care*. You’ve also converted a\n",
    "plain-text file to a row-formatted list.\n",
    "\n",
    "### 1.2 Text into Data\n",
    "\n",
    "We now need to work on turning the response into useful data. We got\n",
    "partway there by splitting on line-breaks (`splitlines()`), but now we\n",
    "need to get columns for each line. You’ll notice that we are dealing\n",
    "with a *CSV* (Comma-Separated Value) file and that the format *looks*\n",
    "quite simple… So, in theory, to turn this into data we ‘just’ need to\n",
    "*split* each row into separate fields using the commas.\n",
    "\n",
    "There’s a handy function associated with strings called `split`:"
   ]
  },
  {
   "cell_type": "code",
   "execution_count": 8,
   "id": "9945d138",
   "metadata": {},
   "outputs": [
    {
     "name": "stdout",
     "output_type": "stream",
     "text": [
      "['abc', 'efgh']\n"
     ]
    }
   ],
   "source": [
    "print('abcdefgh'.split('d'))"
   ]
  },
  {
   "cell_type": "markdown",
   "id": "a2579119-0fb8-4e14-8c55-c9f58aa3e0d4",
   "metadata": {},
   "source": [
    "You can also investigate further how the split function works using:"
   ]
  },
  {
   "cell_type": "code",
   "execution_count": 9,
   "id": "84e19407",
   "metadata": {},
   "outputs": [
    {
     "name": "stdout",
     "output_type": "stream",
     "text": [
      "Help on built-in function split:\n",
      "\n",
      "split(sep=None, maxsplit=-1) method of builtins.str instance\n",
      "    Return a list of the substrings in the string, using sep as the separator string.\n",
      "    \n",
      "      sep\n",
      "        The separator used to split the string.\n",
      "    \n",
      "        When set to None (the default value), will split on any whitespace\n",
      "        character (including \\n \\r \\t \\f and spaces) and will discard\n",
      "        empty strings from the result.\n",
      "      maxsplit\n",
      "        Maximum number of splits.\n",
      "        -1 (the default value) means no limit.\n",
      "    \n",
      "    Splitting starts at the front of the string and works to the end.\n",
      "    \n",
      "    Note, str.split() is mainly useful for data that has been intentionally\n",
      "    delimited.  With natural text that includes punctuation, consider using\n",
      "    the regular expression module.\n",
      "\n"
     ]
    }
   ],
   "source": [
    "help('abcdefgh'.split)"
   ]
  },
  {
   "cell_type": "markdown",
   "id": "fdf198de-27a3-4aee-a7a3-ae1b3afa4220",
   "metadata": {},
   "source": [
    "So this seems like a good solution to turn our text into *data*:"
   ]
  },
  {
   "cell_type": "code",
   "execution_count": 10,
   "id": "a3c388ac",
   "metadata": {},
   "outputs": [
    {
     "name": "stdout",
     "output_type": "stream",
     "text": [
      "['Bangor', '18808', '53.228', '-4.128']\n",
      "The population of Bangor is 18,808\n"
     ]
    }
   ],
   "source": [
    "test = rows[-1].split(',')\n",
    "print(test)\n",
    "print(f\"The population of {test[0]} is {int(test[1]):,}\")"
   ]
  },
  {
   "cell_type": "markdown",
   "id": "844b81e5-d4ff-49e8-aff8-eb86d1b0ea6a",
   "metadata": {},
   "source": [
    "I’d say that we’re now getting quite close to something that looks like\n",
    "‘real data’: I know how to convert a raw response from a web server into\n",
    "a string, to split that string into rows, and can even access individual\n",
    "elements from a row!\n",
    "\n",
    "### 1.3 The Advantages of a Package\n",
    "\n",
    "> **Caution**\n",
    ">\n",
    "> There are two problems to the `data.splitlines()` and `row.split(',')`\n",
    "> approach! One of them is visible (though not obvious) in the examples\n",
    "> above, the other is not.\n",
    "\n",
    "1.  Remember that `10` and `'10'` are *not* the same thing. To\n",
    "    comma-format the population of Sheffield you’ll see that I had to do\n",
    "    `int(...)` in order to turn `'685368'` into a number. So our\n",
    "    approach so far doesn’t know anything about the *type* of data we’re\n",
    "    working with.\n",
    "2.  We are also implicitly *assuming* that commas can only appear at\n",
    "    field boundaries (i.e. that they can only appear to separate one\n",
    "    column of data from the next). In other words, just using\n",
    "    `split(',')` doesn’t work if *any* of the fields can themselves\n",
    "    contain a comma!\n",
    "3.  There’s actually a *third* potential issue, but it’s so rare that we\n",
    "    would need to take a completely different approach to deal with it:\n",
    "    we are also assuming that newlines (`\\n`) can only appear at record\n",
    "    boundaries (i.e. that the can only appear to separate one row of\n",
    "    data from the next). In those cases, using `splitlines()` also\n",
    "    doesn’t work, but this situation is (thankfully) very rare indeed.\n",
    "\n",
    "This is where using code that someone *else* who is much more interested\n",
    "(and knowledgeable) has written and contributed is helpful: we don’t\n",
    "need to think through how to deal with this sort of thing ourselves, we\n",
    "can just find a library that does what we need and make use of *its*\n",
    "functionality. I’ve given you the skeleton of the answer below, but\n",
    "you’ll need to do a little Googling to find out how to\n",
    "`\"read csv python\"`.\n",
    "\n",
    "**Note:** For now just focus on problem #2.\n",
    "\n",
    "``` python\n",
    "from urllib.request import urlopen\n",
    "import csv\n",
    "\n",
    "url = 'https://raw.githubusercontent.com/jreades/fsds/master/data/src/Wikipedia-Cities-simple.csv'\n",
    "response = urlopen(url)\n",
    "raw = response.read()\n",
    "\n",
    "# Now take the raw data, decode it, and then\n",
    "# pass it over to the CSV reader function\n",
    "csvfile  = csv.reader(raw.decode('utf-8').splitlines()) \n",
    "\n",
    "urlData = [] # Somewhere to store the data\n",
    "for row in csvfile:              \n",
    "    urlData.append( row )\n",
    "\n",
    "print(\"urlData has \" + str(len(urlData)) + \" rows and \" + str(len(urlData[0])) + \" columns.\")\n",
    "print(urlData[-1]) # Check it worked!\n",
    "```\n",
    "\n",
    "If it worked, then you should have this output:"
   ]
  },
  {
   "cell_type": "code",
   "execution_count": 11,
   "id": "05a660d9",
   "metadata": {},
   "outputs": [
    {
     "name": "stdout",
     "output_type": "stream",
     "text": [
      "urlData has 11 rows and 4 columns.\n",
      "['Bangor', '18808', '53.228', '-4.128']\n"
     ]
    }
   ],
   "source": [
    "from urllib.request import urlopen\n",
    "import csv\n",
    "\n",
    "url = 'https://raw.githubusercontent.com/jreades/fsds/master/data/src/Wikipedia-Cities-simple.csv'\n",
    "response = urlopen(url)\n",
    "raw = response.read()\n",
    "\n",
    "# Now take the raw data, decode it, and then\n",
    "# pass it over to the CSV reader function\n",
    "csvfile  = csv.reader(raw.decode('utf-8').splitlines()) \n",
    "\n",
    "urlData = [] # Somewhere to store the data\n",
    "for row in csvfile:              \n",
    "    urlData.append( row )\n",
    "\n",
    "print(\"urlData has \" + str(len(urlData)) + \" rows and \" + str(len(urlData[0])) + \" columns.\")\n",
    "print(urlData[-1]) # Check it worked!"
   ]
  },
  {
   "cell_type": "markdown",
   "id": "40e6ec62-3523-4a5b-8c8b-0cca8afd64a4",
   "metadata": {},
   "source": [
    "To you that might look a lot *worse* that the data that you originally\n",
    "had, but to a computer that list-of-lists is something it can work with;\n",
    "check it out:"
   ]
  },
  {
   "cell_type": "code",
   "execution_count": 12,
   "id": "f12da9ea",
   "metadata": {},
   "outputs": [
    {
     "name": "stdout",
     "output_type": "stream",
     "text": [
      "The city of 'Perth' has a population of 45,770\n",
      "The city of 'Armagh' has a population of 14,777\n",
      "The city of 'Dundee' has a population of 147,268\n",
      "The city of 'Colchester' has a population of 194,706\n",
      "The city of 'Salisbury' has a population of 40,302\n"
     ]
    }
   ],
   "source": [
    "for u in urlData[1:6]: # For each row in the first 5 items in list\n",
    "    print(f\"The city of '{u[0]}' has a population of {int(u[1]):,}\") # Print out the name and pop"
   ]
  },
  {
   "cell_type": "markdown",
   "id": "c904a258-d0f6-46c1-9d93-13cdfa5d85b0",
   "metadata": {},
   "source": [
    "> **Note**\n",
    ">\n",
    "> Why did I use `urlData[1:]` instead of `urlData`?\n",
    ">\n",
    "> If you print `urlData[0]` you’ll see that this is the ‘header’ row\n",
    "> that tells us what each column contains! So if we try to convert the\n",
    "> column name to an integer (`int(u[1])`) we will get an error!\n",
    ">\n",
    "> The advantage of using the `csv` library over plain old `string.split`\n",
    "> is that the csv library knows how to deal with fields that contain\n",
    "> commas (*e.g.* `\"Cardfiff, Caerdydd\"` or\n",
    "> `\"An Amazing 4 Bedroom Home, Central London, Sleeps 12\"`) and so is\n",
    "> much more flexible and consistent that our naive `split` approach. The\n",
    "> vast majority of *common* tasks (reading certain types of files,\n",
    "> getting remote files, etc.) have libraries that do exactly what you\n",
    "> want without you needing to write much code yourself to take advantage\n",
    "> of it. You should always have a look around online to see if a library\n",
    "> exists before thinking that you need to write everything/anything from\n",
    "> scratch. The tricky part is knowing what words to use for your search\n",
    "> and how to read the answers that you find…\n",
    "\n",
    "Let’s try this with a ‘bigger’ data set… In an ideal world, the ‘power’\n",
    "of code is that once we’ve solved the problem *once*, we’ve solved it\n",
    "more generally as well. So let’s try with the ‘scaled-up’ data set and\n",
    "see waht happens!\n",
    "\n",
    "``` python\n",
    "from urllib.request import urlopen\n",
    "import csv\n",
    "\n",
    "url = \"https://raw.githubusercontent.com/jreades/fsds/master/data/src/Wikipedia-Cities.csv\"\n",
    "response = urlopen(url)\n",
    "raw = response.read()\n",
    "\n",
    "csvfile = csv.reader(raw.decode('utf-8').splitlines())\n",
    "\n",
    "urlData = [] # Somewhere to store the data\n",
    "\n",
    "for row in csvfile:              \n",
    "    urlData.append( row )\n",
    "\n",
    "print(f\"urlData has {len(urlData)} rows and {len(urlData[0])} columns.\")\n",
    "\n",
    "for u in urlData[70:]:  # For each row in the list\n",
    "    print(f\"The city of '{u[0]}' has a population of {u[1]}\") # Print out the name and pop\n",
    "```\n",
    "\n",
    "> **What mistake have I made here?**\n",
    ">\n",
    "> I have assumed that, just because the files have similar names, they\n",
    "> must also have similar layouts!\n",
    ">\n",
    "> ``` python\n",
    "> print(f\"The URL's data labels are: {', '.join(urlData[0])}\")\n",
    "> ```\n",
    ">\n",
    ">     The URL's data labels are: City, Population, Latitude, Longitude\n",
    "\n",
    "### 1.4 Insight!\n",
    "\n",
    "So, although the code was basically the same for both of these files\n",
    "(good), we would need to change quite a bit in order to print out the\n",
    "*same* information from different versions of the *same data*. So our\n",
    "code is rather **brittle**.\n",
    "\n",
    "One of the issues is that our *instincts* about how to manage data\n",
    "doesn’t align with how the computer can most *efficiently* manage it. We\n",
    "make the mistake of thinking that the computer needs to do things that\n",
    "same way that we do when reading text and so assume that we need to:\n",
    "\n",
    "1.  Represent the rows as a list.\n",
    "2.  Represent the columns as a list for each row.\n",
    "\n",
    "This thinking suggests that the ‘right’ data structure would clearly be\n",
    "a list-of-lists (LoLs!), but if you understand what happened here then\n",
    "the next section will make a *lot* more sense!\n",
    "\n",
    "## 2. Why ‘Obvious’ is Not Always ‘Right’\n",
    "\n",
    "> **🔗 Connections**\n",
    ">\n",
    "> This section builds on the material covered by the [DOLs to\n",
    "> Data](https://jreades.github.io/fsds/sessions/week3.html#lectures)\n",
    "> lecture.\n",
    "\n",
    "> **Difficulty: Hard.**\n",
    "\n",
    "But you need to be careful assuming that, just because something is hard\n",
    "for you to read, it’s also hard for a computer to read! The way a\n",
    "computer ‘thinks’ and the way that we think doesn’t always line up\n",
    "naturally. Experienced programmers can think their way *around* a\n",
    "problem by working *with* the computer, rather than against it.\n",
    "\n",
    "Some issues to consider:\n",
    "\n",
    "-   Is the first row of data *actually* data, or is it *about* data?\n",
    "-   Do we really care about column *order*, or do we just care about\n",
    "    being able to pick the *correct* column?\n",
    "\n",
    "Let’s apply this approach to the parsing of our data…\n",
    "\n",
    "### 2.1 Understanding What’s an ‘Appropriate’ Data Structure\n",
    "\n",
    "If you stop to think about it, then our list-of-lists approach to the\n",
    "data isn’t very easy to navigate. Notice that if the position or name of\n",
    "a column changes then we need to change our program *every* time we\n",
    "re-run it! It’s not very easy to read *either* since we don’t really\n",
    "know what `u[5]` is supposed to be. That way lies all kinds of potential\n",
    "errors!\n",
    "\n",
    "Also consider that, in order to calculate out even a simple aggregate\n",
    "such as the `sum` of a field for all rows we need to step through a lot\n",
    "of irrelevant data as well: we have to write a `for` loop and then step\n",
    "through each row with an ‘accumulator’ (somewhere to store the total).\n",
    "That’s slow.\n",
    "\n",
    "That doesn’t make much sense since this should all be *easier* and\n",
    "*faster* in Python than in Excel, but right now it’s *harder*, and quite\n",
    "possibly *slower* as well! So how does the experienced programmer get\n",
    "around this? ‘Simple’ (i.e. neither simple, nor obvious, until you know\n",
    "the answer): she realises that the data is organised the wrong way! We\n",
    "humans tend to think in rows of data: this apartment has the following\n",
    "*attributes* (price, location, etc.), or that city has the following\n",
    "*attributes* (population, location). We read across the row because\n",
    "that’s the easiest way for *us* to think about it. But, in short, a\n",
    "list-of-lists does *not* seem to be the right way to store this data!\n",
    "\n",
    "Crucially, a computer doesn’t have to work that way. For a computer,\n",
    "it’s as easy to read *down* a column as it is to read *across* a row.\n",
    "**In fact, it’s easier**, because each column has the same *type* of\n",
    "data: one column contains names (strings), another column contains\n",
    "prices (integers), and other columns contain other types of data\n",
    "(floats, etc.). Better still, the order of the columns often doesn’t\n",
    "matter as long as we know what the columns are called: it’s easier to\n",
    "ask for the ‘description column’ than it is to ask for the 6th column\n",
    "since, for all we know, the description column might be in a different\n",
    "place for different files but they are all (relatively) likely to use\n",
    "the ‘description’ label for the column itself.\n",
    "\n",
    "#### 2.1.1 A Dictionary of Lists to the Rescue\n",
    "\n",
    "So, if we don’t care about column order, only row order, then a\n",
    "dictionary of lists would be a nice way to handle things. And why should\n",
    "we care about column order? With our CSV files above we already saw what\n",
    "a pain it was to fix things when the layout of the columns changed from\n",
    "one data set to the next. If, instead, we can just reference the\n",
    "‘description’ column then it doesn’t matter where that column actually\n",
    "is. Why is that?\n",
    "\n",
    "Well, here are the first four rows of data from a list-of-lists for city\n",
    "sizes:\n",
    "\n",
    "``` python\n",
    "myData = [\n",
    "  ['id', 'Name', 'Rank', 'Longitude', 'Latitude', 'Population'], \n",
    "  ['1', 'Greater London', '1', '-18162.92767', '6711153.709', '9787426'], \n",
    "  ['2', 'Greater Manchester', '2', '-251761.802', '7073067.458', '2553379'], \n",
    "  ['3', 'West Midlands', '3', '-210635.2396', '6878950.083', '2440986']\n",
    "]\n",
    "```\n",
    "\n",
    "Now, here’s how it would look as a dictionary of lists organised by\n",
    "*column*, and *not* by row:"
   ]
  },
  {
   "cell_type": "code",
   "execution_count": 1,
   "id": "c6b10b80",
   "metadata": {},
   "outputs": [
    {
     "name": "stdout",
     "output_type": "stream",
     "text": [
      "['London', 'Manchester', 'Birmingham', 'Edinburgh', 'Inverness', 'Lerwick']\n",
      "[9787426, 2705000, 1141816, 901455, 70000, 6958]\n"
     ]
    }
   ],
   "source": [
    "myData = {\n",
    "    'id'         : [0, 1, 2, 3, 4, 5],\n",
    "    'Name'       : ['London', 'Manchester', 'Birmingham','Edinburgh','Inverness','Lerwick'],\n",
    "    'Rank'       : [1, 2, 3, 4, 5, 6],\n",
    "    'Longitude'  : [-0.128, -2.245, -1.903, -3.189, -4.223, -1.145],\n",
    "    'Latitude'   : [51.507, 53.479, 52.480, 55.953, 57.478, 60.155],\n",
    "    'Population' : [9787426, 2705000, 1141816, 901455, 70000, 6958],\n",
    "}\n",
    "\n",
    "print(myData['Name'])\n",
    "print(myData['Population'])"
   ]
  },
  {
   "cell_type": "markdown",
   "id": "bc571df2-e023-465b-bbe8-1b65d8241c24",
   "metadata": {},
   "source": [
    "What does this do better? Well, for starters, we know that everything in\n",
    "the ‘Name’ column will be a string, and that everything in the\n",
    "‘Longitude’ column is a float, while the ‘Population’ column contains\n",
    "integers. So that’s made life easier already, but the real benefit is\n",
    "coming up…\n",
    "\n",
    "#### 2.1.2 Behold the Power of the DoL\n",
    "\n",
    "Now let’s look at what you can do with this… but first we need to import\n",
    "one *more* package that you’re going to see a *lot* over the rest of\n",
    "term: `numpy` (Numerical Python), which is used *so* much that most\n",
    "people simply refer to it as `np`. This is a *huge* package in terms of\n",
    "features, but right now we’re interested only in the basic arithmatic\n",
    "functions: `mean`, `max`, and `min`.\n",
    "\n",
    "> **We’ll step through most of these in detail below.**\n",
    "\n",
    "Find the latitude of Manchester:"
   ]
  },
  {
   "cell_type": "code",
   "execution_count": 2,
   "id": "402277ae",
   "metadata": {},
   "outputs": [
    {
     "name": "stdout",
     "output_type": "stream",
     "text": [
      "Manchester's latitude is 53.479\n"
     ]
    }
   ],
   "source": [
    "city = \"Manchester\"\n",
    "lat = myData['Latitude'][ myData['Name'].index(city) ]\n",
    "print(f\"{city}'s latitude is {lat}\")"
   ]
  },
  {
   "cell_type": "markdown",
   "id": "875d78cf-15b4-46f5-a935-c913a6b6a974",
   "metadata": {},
   "source": [
    "Print the location of Lerwick:\n",
    "\n",
    "##### 2.1.2.1 Question"
   ]
  },
  {
   "cell_type": "code",
   "execution_count": 3,
   "id": "9b5952c5-a4c0-4b39-99d7-42b668c5f5dc",
   "metadata": {},
   "outputs": [
    {
     "name": "stdout",
     "output_type": "stream",
     "text": [
      "The town of Lerwick can be found at 1.145ºW, 60.155ºN\n"
     ]
    }
   ],
   "source": [
    "city = \"Lerwick\"\n",
    "print(f\"The town of {city} can be found at \" + \n",
    "      f\"{abs(myData['Longitude'][ myData['Name'].index(city) ])}ºW, {myData['Latitude'][ myData['Name'].index(city) ]}ºN\")"
   ]
  },
  {
   "cell_type": "markdown",
   "id": "bd8bf01a-94fa-43ed-9c45-6402b40aba2a",
   "metadata": {},
   "source": [
    "Find the easternmost city:\n",
    "\n",
    "##### 2.1.2.2 Question"
   ]
  },
  {
   "cell_type": "code",
   "execution_count": 10,
   "id": "cb9812e3-8078-49c2-a1f0-75a476bd09a6",
   "metadata": {},
   "outputs": [
    {
     "name": "stdout",
     "output_type": "stream",
     "text": [
      "The easternmost city is: London\n"
     ]
    }
   ],
   "source": [
    "city = myData['Name'][ myData['Longitude'].index( max(myData['Longitude']) ) ]\n",
    "print(f\"The easternmost city is: {city}\")"
   ]
  },
  {
   "cell_type": "markdown",
   "id": "f1e427d5-3312-49e4-8680-360d1d6f9219",
   "metadata": {},
   "source": [
    "Find the `mean` population of the cities using a handy package called\n",
    "numpy:\n",
    "\n",
    "##### 2.1.2.3 Question"
   ]
  },
  {
   "cell_type": "code",
   "execution_count": 5,
   "id": "6006a481-fc9f-4747-91b3-b3593e747f9b",
   "metadata": {},
   "outputs": [
    {
     "name": "stdout",
     "output_type": "stream",
     "text": [
      "The mean population is: 2435442.5\n"
     ]
    }
   ],
   "source": [
    "import numpy as np\n",
    "mean = np.mean(myData['Population'])\n",
    "print(f\"The mean population is: {mean}\")"
   ]
  },
  {
   "cell_type": "markdown",
   "id": "92cc3cee-2339-4c12-ba0a-9b6e20ab95bf",
   "metadata": {},
   "source": [
    "> **Warning**\n",
    ">\n",
    "> **Stop!** Look closely at what is going on. There’s a *lot* of content\n",
    "> to process in the code above, so do *not* rush blindly on if this is\n",
    "> confusing. Try pulling it apart into pieces and then reassemble it.\n",
    "> Start with the bits that you understand and then *add* complexity.\n",
    "\n",
    "We’ll go through each one in turn, but they nearly all work in the same\n",
    "way and the really key thing is that you’ll notice that we no longer\n",
    "have any loops (which are slow) just `index` or `np.<function>` (which\n",
    "is *very* fast).\n",
    "\n",
    "#### 2.1.3 The Population of Manchester\n",
    "\n",
    "The code can look pretty daunting, so let’s break it down into two\n",
    "parts. What would you get if you ran just this code?"
   ]
  },
  {
   "cell_type": "code",
   "execution_count": 6,
   "id": "e839fcb3",
   "metadata": {},
   "outputs": [
    {
     "data": {
      "text/plain": [
       "2705000"
      ]
     },
     "execution_count": 6,
     "metadata": {},
     "output_type": "execute_result"
    }
   ],
   "source": [
    "myData['Population'][1]"
   ]
  },
  {
   "cell_type": "markdown",
   "id": "6aacbf1f-5573-4146-b311-84c18a40c9ed",
   "metadata": {},
   "source": [
    "Remember that this is a dictionary-of-lists (DoL). So, Python first\n",
    "looks for a key named `Population` in the myData dictionary. It finds\n",
    "out that the value associated with this key is a *list* and in this\n",
    "example, it just pulls out the second value (index `1`). Does **that\n",
    "part** make sense?\n",
    "\n",
    "Now, to the second part:"
   ]
  },
  {
   "cell_type": "code",
   "execution_count": 7,
   "id": "fdc350f7",
   "metadata": {},
   "outputs": [
    {
     "data": {
      "text/plain": [
       "1"
      ]
     },
     "execution_count": 7,
     "metadata": {},
     "output_type": "execute_result"
    }
   ],
   "source": [
    "myData['Name'].index('Manchester')"
   ]
  },
  {
   "cell_type": "markdown",
   "id": "026056d2-e24f-49ce-89c4-fafd83fa7008",
   "metadata": {},
   "source": [
    "Here we look in the dictionary for the key `Name` and find that that’s\n",
    "*also* a list. All we’re doing here is asking Python to find the index\n",
    "of ‘Manchester’ for us in that list. And\n",
    "`myData['Name'].index('Manchester')` gives us back a `1`, so *instead*\n",
    "of just writing `myData['Population'][1]` we can replace the `1` with\n",
    "`myData['Name'].index('Manchester')`! Crucially, notice the complete\n",
    "*absence* of a for loop?\n",
    "\n",
    "Does that make sense? If it does then you should be having a kind of an\n",
    "🤯 moment because what we’ve done by taking a column view, rather than a\n",
    "row view, is to make Python’s `index()` command do the work for us.\n",
    "Instead of having to look through each row for a field that matches\n",
    "‘Name’ and then check to see if it’s ‘Manchester’, we’ve pointed Python\n",
    "at the right column immediately and asked it to find the match (which it\n",
    "can do very quickly). Once we have a match then we *also* have the row\n",
    "number to go and do the lookup in the ‘Population’ column because the\n",
    "index *is* the row number!\n",
    "\n",
    "#### 2.1.4 The Easternmost City\n",
    "\n",
    "Where this approach really comes into its own is on problems that\n",
    "involve maths. To figure out the easternmost city in this list we need\n",
    "to find the *maximum* Longitude and then use *that* value to look up the\n",
    "city name. So let’s do the same process of pulling this apart into two\n",
    "steps. Let start with the easier bit:"
   ]
  },
  {
   "cell_type": "code",
   "execution_count": 8,
   "id": "a3b0da66",
   "metadata": {},
   "outputs": [
    {
     "data": {
      "text/plain": [
       "'London'"
      ]
     },
     "execution_count": 8,
     "metadata": {},
     "output_type": "execute_result"
    }
   ],
   "source": [
    "myData['Name'][0]"
   ]
  },
  {
   "cell_type": "markdown",
   "id": "64339634-c4c6-4128-8b81-09bfc80c677d",
   "metadata": {},
   "source": [
    "That would give us the name of a city, but we don’t just want the first\n",
    "city in the list, we want the one with the maximum longitude. To achieve\n",
    "*that* we need to somehow replace the `0` with the ***index of the\n",
    "maximum longitude***. Let’s break this down further:\n",
    "\n",
    "1.  We first need to *find* the maximum longitude.\n",
    "2.  We then need to *find* the **index** of that maximum longitude.\n",
    "\n",
    "So Step 1 would be:"
   ]
  },
  {
   "cell_type": "code",
   "execution_count": 9,
   "id": "8bf3e0b5",
   "metadata": {},
   "outputs": [],
   "source": [
    "max_lon = max(myData['Longitude'])"
   ]
  },
  {
   "cell_type": "markdown",
   "id": "281b62de-0dab-4f1b-8cbe-9ef195acf056",
   "metadata": {},
   "source": [
    "Because the `max(...)` helps us to find the maximum longitude in the\n",
    "Longitude list. Now that we have that we can proceed to Step 2:"
   ]
  },
  {
   "cell_type": "code",
   "execution_count": 11,
   "id": "b27d2c99",
   "metadata": {},
   "outputs": [
    {
     "data": {
      "text/plain": [
       "0"
      ]
     },
     "execution_count": 11,
     "metadata": {},
     "output_type": "execute_result"
    }
   ],
   "source": [
    "myData['Longitude'].index(max_lon)"
   ]
  },
  {
   "cell_type": "markdown",
   "id": "a5ace1b7-32be-462e-9863-a3a059d3257a",
   "metadata": {},
   "source": [
    "So now we ask Python to find the position of `max_lon` in the list. But\n",
    "rather than doing this in two steps we can combine into one if we write\n",
    "it down to make it easier to read:"
   ]
  },
  {
   "cell_type": "code",
   "execution_count": 12,
   "id": "97149ffc",
   "metadata": {},
   "outputs": [
    {
     "data": {
      "text/plain": [
       "0"
      ]
     },
     "execution_count": 12,
     "metadata": {},
     "output_type": "execute_result"
    }
   ],
   "source": [
    "myData['Longitude'].index(\n",
    "    max(myData['Longitude'])\n",
    ")"
   ]
  },
  {
   "cell_type": "markdown",
   "id": "1d8b6fb5-91cf-4015-bcb1-23bcbc692482",
   "metadata": {},
   "source": [
    "There’s the same `.index` which tells us that Python is going to look\n",
    "for something in the list associated with the `Longitude` key. All we’ve\n",
    "done is change what’s *inside* that index function to\n",
    "`max(myData['Longitude'])`. This is telling Python to find the *maximum*\n",
    "value in the `myData['Longitude']` list. So to explain this in three\n",
    "steps, what we’re doing is:\n",
    "\n",
    "-   Finding the maximum value in the Longitude column (we know there\n",
    "    must be one, but we don’t know what it is!),\n",
    "-   Finding the index (position) of that maximum value in the Longitude\n",
    "    column (now that we know what the value is!),\n",
    "-   Using that index to read a value out of the Name column.\n",
    "\n",
    "I *am* a geek, but that’s pretty cool, right? In one line of code we\n",
    "managed to quickly find out where the data we needed was even though it\n",
    "involved three discrete steps. Think about how much work you’d have to\n",
    "do if you were still thinking in *rows*, not *columns*!\n",
    "\n",
    "#### 2.1.5 The Location of Lerwick\n",
    "\n",
    "Lerwick is a small town in [the Shetlands](https://www.shetland.org/),\n",
    "way up to the North of mainland U.K. and somewhere I’ve wanted to go\n",
    "ever since I got back from [Orkney](https://www.orkney.com/)–but then I\n",
    "spent my honeymoon in the far North of\n",
    "[Iceland](https://www.westfjords.is/), so perhaps I just don’t like\n",
    "being around lots of people… 🙃\n",
    "\n",
    "Anyway, this one *might* be a tiny bit easier conceptually than the\n",
    "other problems, except that I’ve deliberately used a slightly different\n",
    "way of showing the output that might be confusing:\n",
    "\n",
    "Print the location of Lerwick:"
   ]
  },
  {
   "cell_type": "code",
   "execution_count": 13,
   "id": "c1c514b0",
   "metadata": {},
   "outputs": [
    {
     "name": "stdout",
     "output_type": "stream",
     "text": [
      "The town of Lerwick can be found at 1.145ºW, 60.155ºN\n"
     ]
    }
   ],
   "source": [
    "city = \"Lerwick\"\n",
    "print(f\"The town of {city} can be found at \" + \n",
    "      f\"{abs(myData['Longitude'][myData['Name'].index(city)])}ºW, {myData['Latitude'][myData['Name'].index(city)]}ºN\")"
   ]
  },
  {
   "cell_type": "markdown",
   "id": "3a11d88a-1eab-499d-b694-551c7198f1bc",
   "metadata": {},
   "source": [
    "The first thing to do is to pull apart the `print` statement: you can\n",
    "see that this is actually just two ‘f-strings’ joined by a `+`–having\n",
    "that at the end of the line tells Python that it should carry on to the\n",
    "next line. That’s a handy way to make your code a little easier to read.\n",
    "If you’re creating a list and it’s getting a little long, then you can\n",
    "also continue a line using a `,` as well!\n",
    "\n",
    "##### 2.1.5.1 1. The first f-string\n",
    "\n",
    "The first string will help you to make sense of the second: f-strings\n",
    "allow you to ‘interpolate’ a variable into a string directly rather than\n",
    "having to have lots of `str(x) + \" some text \" + str(y)`. You can write\n",
    "`f\"{x} some text {y}\"` and Python will automatically convert the\n",
    "variables `x` and `y` to strings and replace `{x}` with the *value of\n",
    "`x`* and `{y}` with the *value of `y`*.\n",
    "\n",
    "So here `f\"The town of {city} can be found at \"` becomes\n",
    "`f\"The town of Lerwick can be found at \"` because `{city}` is replaced\n",
    "by the value of the variable `city`. This makes for code that is easier\n",
    "for humans to read and so I’d consider that a good thing.\n",
    "\n",
    "##### 2.1.5.2 2. The second f-string\n",
    "\n",
    "This one is hard because there’s just a *lot* of code there. But, again,\n",
    "if we start with what we recognise that it gets just a little bit more\n",
    "manageable… Also, it stands to reason that the only difference between\n",
    "the two outputs is that one asks for the ‘Longitude’ and the other for\n",
    "the ‘Latitude’. So if you can make sense of one you have *automatically*\n",
    "made sense of the other and don’t need to work it all out.\n",
    "\n",
    "Let’s start with a part that you might recognise:"
   ]
  },
  {
   "cell_type": "code",
   "execution_count": 14,
   "id": "61516e73",
   "metadata": {},
   "outputs": [
    {
     "data": {
      "text/plain": [
       "5"
      ]
     },
     "execution_count": 14,
     "metadata": {},
     "output_type": "execute_result"
    }
   ],
   "source": [
    "myData['Name'].index(city)"
   ]
  },
  {
   "cell_type": "markdown",
   "id": "67f771e2-346b-4c6a-b7ee-c8421f71148d",
   "metadata": {},
   "source": [
    "You’ve *got* this. This is just asking Python to work out the index of\n",
    "Lerwick (because `city = 'Lerwick'`). So it’s a number. 5 in this case.\n",
    "And we can then think, ’OK so what does this return:"
   ]
  },
  {
   "cell_type": "code",
   "execution_count": 15,
   "id": "c1ea4ac6",
   "metadata": {},
   "outputs": [
    {
     "data": {
      "text/plain": [
       "-1.145"
      ]
     },
     "execution_count": 15,
     "metadata": {},
     "output_type": "execute_result"
    }
   ],
   "source": [
    "myData['Longitude'][5]"
   ]
  },
  {
   "cell_type": "markdown",
   "id": "85b7798e-e356-4f00-a60c-5fcdabb1219f",
   "metadata": {},
   "source": [
    "And the answer is `-1.145`. That’s the Longitude of Lerwick! There’s\n",
    "just *one* last thing: notice that we’re talking about degrees West\n",
    "here. So the answer isn’t a negative (because negative West degrees\n",
    "would be *East*!), it’s the *absolute* value. And that is the final\n",
    "piece of the puzzle: `abs(...)` gives us the absolute value of a number!"
   ]
  },
  {
   "cell_type": "code",
   "execution_count": 16,
   "id": "09f6a667",
   "metadata": {},
   "outputs": [
    {
     "name": "stdout",
     "output_type": "stream",
     "text": [
      "Help on built-in function abs in module builtins:\n",
      "\n",
      "abs(x, /)\n",
      "    Return the absolute value of the argument.\n",
      "\n"
     ]
    }
   ],
   "source": [
    "help(abs)  #abs取绝对值"
   ]
  },
  {
   "cell_type": "markdown",
   "id": "99837569-355d-4604-98d5-03a01e6a2e80",
   "metadata": {},
   "source": [
    "#### 2.1.6 The Average City Size\n",
    "\n",
    "Here we’re going to ‘cheat’ a little bit: rather than writing our own\n",
    "function, we’re going to import a package and use someone *else’s*\n",
    "function. The `numpy` package contains a *lot* of useful functions that\n",
    "we can call on (if you don’t believe me, add “`dir(np)`” on a new line\n",
    "after the `import` statement), and one of them calculates the average of\n",
    "a list or array of data."
   ]
  },
  {
   "cell_type": "code",
   "execution_count": 17,
   "id": "477cefc9",
   "metadata": {},
   "outputs": [
    {
     "name": "stdout",
     "output_type": "stream",
     "text": [
      "The mean population is 2435442.5\n"
     ]
    }
   ],
   "source": [
    "print(f\"The mean population is {np.mean(myData['Population'])}\")"
   ]
  },
  {
   "cell_type": "markdown",
   "id": "a778e202-55ad-4f62-80b7-bb5d9f6f7500",
   "metadata": {},
   "source": [
    "This is where our new approach really comes into its own: because all of\n",
    "the population data is in one place (a.k.a. a *series* or column), we\n",
    "can just throw the whole list into the `np.mean` function rather than\n",
    "having to use all of those convoluted loops and counters. Simples,\n",
    "right?\n",
    "\n",
    "No, not *simple* at all, but we’ve come up with a way to *make* it\n",
    "simple.\n",
    "\n",
    "#### 2.1.7 Recap!\n",
    "\n",
    "So the *really* clever bit in all of this isn’t switching from a\n",
    "list-of-lists to a dictionary-of-lists, it’s recognising that the\n",
    "dictionary-of-lists is a *better* way to work *with* the data that we’re\n",
    "trying to analyse and that that there are useful functions that we can\n",
    "exploit to do the heavy lifting for us. Simply by changing the way that\n",
    "we stored the data in a ‘data structure’ (i.e. complex arrangement of\n",
    "lists, dictionaries, and variables) we were able to do away with lots of\n",
    "for loops and counters and conditions, and reduce many difficult\n",
    "operations to something that could be done on one line!\n",
    "\n",
    "### 2.2 Brain Teaser\n",
    "\n",
    "> **Difficulty: 🤯.**\n",
    "\n",
    "Why not have a stab at writing the code to print out the *4th most\n",
    "populous* city? This can *still* be done on one line, though you might\n",
    "want to start by breaking the problem down:\n",
    "\n",
    "1.  How do I find the *4th* largest value in a list?\n",
    "2.  How do I find the *index* of the 4th largest value in a list?\n",
    "3.  How do I use that to look up the name associated with that index?\n",
    "\n",
    "You’ve already done #2 and #3 above so you’ve *solved* that problem. If\n",
    "you can solve #1 then the rest should fall into place.\n",
    "\n",
    "> **Tip**\n",
    ">\n",
    "> You don’t want to use `<list>.sort()` because that will sort your data\n",
    "> *in place* and break the link between the indexes across the\n",
    "> ‘columns’; you want to research the function `sorted(<list>)` where\n",
    "> `<list>` is the variable that holds your data and `sorted(...)` just\n",
    "> returns whatever you pass it in a sorted order *without* changing the\n",
    "> original list. You’ll see why this matters if you get the answer…\n",
    "> otherwise, wait a few days for the answers to post.\n",
    "\n",
    "##### 2.2.0.1 Question"
   ]
  },
  {
   "cell_type": "code",
   "execution_count": 24,
   "id": "11653346-67df-41c7-9832-38145171eee5",
   "metadata": {},
   "outputs": [
    {
     "name": "stdout",
     "output_type": "stream",
     "text": [
      "The fourth most populous city is: Edinburgh\n"
     ]
    }
   ],
   "source": [
    "# Print out the name of the 4th most populous city-region\n",
    "city = myData['Name'][myData['Population'].index(sorted(myData['Population'],reverse=True)[3])]\n",
    "\n",
    "print(\"The fourth most populous city is: \" + str(city))"
   ]
  },
  {
   "cell_type": "markdown",
   "id": "607b7279-ae32-48be-9b6d-d72ff614bf74",
   "metadata": {},
   "source": [
    "The answer is Edinburgh.\n",
    "\n",
    "### 2.3 Bringing it all together…\n",
    "\n",
    "Conceptually, this is one of the hardest practicals in the entire term\n",
    "because it joins up so many of the seemingly simple ideas that you\n",
    "covered in Code Camp into a very complex ‘stew’ – all our basic\n",
    "ingredients (lists, dictionaries, etc.) have simmered for a bit, been\n",
    "stirred up together, and become something entirely new and more complex.\n",
    "\n",
    "So if this practical doesn’t make sense to you on the *first*\n",
    "runthrough, I’d suggest going back through the second half of the\n",
    "practical *again* in a couple of days’ time – that will give your brain\n",
    "a little time to wrap itself around the basics before you throw the hard\n",
    "stuff at it again. *Don’t* panic if it doesn’t all make sense on the\n",
    "*second* runthrough either – this is like a language, you need to\n",
    "practice! With luck, the second time you went through this code a little\n",
    "bit *more* made sense. If you need to do it a third time you’ll find\n",
    "that even *more* makes sense… and so on."
   ]
  }
 ],
 "metadata": {
  "kernelspec": {
   "display_name": "Python (base)",
   "language": "python",
   "name": "base"
  },
  "language_info": {
   "codemirror_mode": {
    "name": "ipython",
    "version": 3
   },
   "file_extension": ".py",
   "mimetype": "text/x-python",
   "name": "python",
   "nbconvert_exporter": "python",
   "pygments_lexer": "ipython3",
   "version": "3.11.9"
  }
 },
 "nbformat": 4,
 "nbformat_minor": 5
}
